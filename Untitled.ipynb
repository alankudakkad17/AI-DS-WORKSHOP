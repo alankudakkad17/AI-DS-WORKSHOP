{
 "cells": [
  {
   "cell_type": "code",
   "execution_count": 2,
   "id": "b7dfd912",
   "metadata": {},
   "outputs": [
    {
     "data": {
      "text/plain": [
       "array(['Man'], dtype='<U5')"
      ]
     },
     "execution_count": 2,
     "metadata": {},
     "output_type": "execute_result"
    }
   ],
   "source": [
    "from sklearn import tree\n",
    "from sklearn.model_selection import train_test_split\n",
    "x=[[165,19],[175,35],[174,65],[176,15]]\n",
    "y=['Man','Woman',\"Man\",\"Woman\"]\n",
    "data_feature_names=['height','length of hair']\n",
    "x_train,x_test,y_train,y_test=train_test_split(x,y,test_size=.3,random_state=1)\n",
    "DTclf =tree.DecisionTreeClassifier()\n",
    "DTclf =DTclf.fit(x,y)\n",
    "prediction=DTclf.predict([[145,20]])\n",
    "prediction\n",
    "\n",
    "\n",
    "\n",
    "\n",
    "\n",
    "\n"
   ]
  },
  {
   "cell_type": "code",
   "execution_count": null,
   "id": "7e056b31",
   "metadata": {},
   "outputs": [],
   "source": []
  }
 ],
 "metadata": {
  "kernelspec": {
   "display_name": "Python 3 (ipykernel)",
   "language": "python",
   "name": "python3"
  },
  "language_info": {
   "codemirror_mode": {
    "name": "ipython",
    "version": 3
   },
   "file_extension": ".py",
   "mimetype": "text/x-python",
   "name": "python",
   "nbconvert_exporter": "python",
   "pygments_lexer": "ipython3",
   "version": "3.10.5"
  }
 },
 "nbformat": 4,
 "nbformat_minor": 5
}
